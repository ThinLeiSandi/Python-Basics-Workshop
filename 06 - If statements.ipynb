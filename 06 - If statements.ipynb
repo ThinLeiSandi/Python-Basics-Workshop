{
 "cells": [
  {
   "cell_type": "markdown",
   "metadata": {},
   "source": [
    "# If Statements"
   ]
  },
  {
   "cell_type": "markdown",
   "metadata": {},
   "source": [
    "```if``` Statements in Python allow us to tell the computer to perform alternative actions based on a certain set of results.\n",
    "\n",
    "In other words, we are telling the computer : \"Hey if this case happens, perform some action\"\n",
    "\n",
    "Let's go ahead and look at the syntax format for if statements to get a better idea of this:\n",
    "    \n",
    "    if case1:\n",
    "        perform action1\n",
    "    elif case2:\n",
    "        perform action2\n",
    "    else: \n",
    "        perform action3"
   ]
  },
  {
   "cell_type": "code",
   "execution_count": null,
   "metadata": {},
   "outputs": [],
   "source": [
    "if True:\n",
    "    print('haha')"
   ]
  },
  {
   "cell_type": "markdown",
   "metadata": {},
   "source": [
    "Let's add in some else logic."
   ]
  },
  {
   "cell_type": "code",
   "execution_count": null,
   "metadata": {},
   "outputs": [],
   "source": [
    "x = False\n",
    "\n",
    "if x:\n",
    "    print('Apple')\n",
    "else:\n",
    "    print('Orange')"
   ]
  },
  {
   "cell_type": "markdown",
   "metadata": {},
   "source": [
    "## Multiple Branches"
   ]
  },
  {
   "cell_type": "markdown",
   "metadata": {},
   "source": [
    "Let's get a full picture of how far if, elif, and else can take us."
   ]
  },
  {
   "cell_type": "code",
   "execution_count": null,
   "metadata": {},
   "outputs": [],
   "source": [
    "place = 'Office'\n",
    "\n",
    "if place == 'Bank':\n",
    "    print('Welcome to the Bank!')\n",
    "elif place == 'Office':\n",
    "    print('Welcome to the Office!')\n",
    "else:\n",
    "    print('Whera are you?')"
   ]
  },
  {
   "cell_type": "code",
   "execution_count": null,
   "metadata": {},
   "outputs": [],
   "source": [
    "name = 'Cathy'\n",
    "\n",
    "if name == 'Cathy':\n",
    "    print('I am Cathy')\n",
    "else:\n",
    "    print('Welcome, what is your name?')"
   ]
  },
  {
   "cell_type": "code",
   "execution_count": null,
   "metadata": {},
   "outputs": [],
   "source": [
    "name = 'Veronica'\n",
    "\n",
    "if name == 'Cathy':\n",
    "    print('I am Cathy')\n",
    "elif name == 'Veronica':\n",
    "    print('I am Veronica')\n",
    "else:\n",
    "    print('Welcome, what is your name?')"
   ]
  },
  {
   "cell_type": "code",
   "execution_count": null,
   "metadata": {},
   "outputs": [],
   "source": [
    "name = 'Thomas'\n",
    "\n",
    "if name == 'Cathy':\n",
    "    print('I am Cathy')\n",
    "elif name == 'Veronica':\n",
    "    print('I am Veronica')\n",
    "elif name == 'Lucifer':\n",
    "    print('I am Lucifer')\n",
    "else:\n",
    "    print('Welcome, what is your name?')"
   ]
  },
  {
   "cell_type": "markdown",
   "metadata": {},
   "source": [
    "# Exercises"
   ]
  },
  {
   "cell_type": "markdown",
   "metadata": {},
   "source": [
    "1.) Print 'bye' depending on the condition below."
   ]
  },
  {
   "cell_type": "code",
   "execution_count": null,
   "metadata": {},
   "outputs": [],
   "source": [
    "x = True\n",
    "# Print bye"
   ]
  },
  {
   "cell_type": "code",
   "execution_count": null,
   "metadata": {},
   "outputs": [],
   "source": [
    "x = False\n",
    "# Print bye"
   ]
  }
 ],
 "metadata": {
  "kernelspec": {
   "display_name": "Python 3",
   "language": "python",
   "name": "python3"
  },
  "language_info": {
   "codemirror_mode": {
    "name": "ipython",
    "version": 3
   },
   "file_extension": ".py",
   "mimetype": "text/x-python",
   "name": "python",
   "nbconvert_exporter": "python",
   "pygments_lexer": "ipython3",
   "version": "3.6.8"
  }
 },
 "nbformat": 4,
 "nbformat_minor": 2
}
